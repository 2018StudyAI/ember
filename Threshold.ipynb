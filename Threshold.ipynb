{
 "cells": [
  {
   "cell_type": "markdown",
   "metadata": {},
   "source": [
    "# 모델의 예측값과 라벨을 파일로 저장"
   ]
  },
  {
   "cell_type": "code",
   "execution_count": 9,
   "metadata": {},
   "outputs": [
    {
     "name": "stderr",
     "output_type": "stream",
     "text": [
      "100%|██████████| 10001/10001 [20:27<00:00,  8.15it/s]"
     ]
    },
    {
     "name": "stdout",
     "output_type": "stream",
     "text": [
      "Error 045b736281fa4aeb9d98575c5b3f9105.vir\n",
      "Error c8dac3de308745427b8be452b13015fd.vir\n",
      "Done\n"
     ]
    },
    {
     "name": "stderr",
     "output_type": "stream",
     "text": [
      "\n"
     ]
    }
   ],
   "source": [
    "import os\n",
    "import ember\n",
    "import numpy as np\n",
    "import pandas as pd\n",
    "import altair as alt\n",
    "import lightgbm as lgb\n",
    "import matplotlib.pylab as plt\n",
    "from sklearn.metrics import roc_auc_score, roc_curve\n",
    "import subprocess\n",
    "import tqdm\n",
    "\n",
    "#feautres.json, 학습한 모델이 있는 경로\n",
    "data_dir = ''\n",
    "data = pd.read_csv('')\n",
    "\n",
    "#추출된 특징의 갯수 구하기\n",
    "parameter_popen = ['wc', '-l', os.path.join(data_dir, 'features.jsonl')]\n",
    "resut = subprocess.Popen(parameter_popen, stdout=subprocess.PIPE, universal_newlines=True).communicate()[0]\n",
    "rows = int(resut.split(' ')[0])\n",
    "\n",
    "#features.jsonl특징을 학습하기 위해 차원변환 -> X.dat, y.dat 생성\n",
    "#ember.create_vectorized_features(data_dir, rows)\n",
    "\n",
    "#X.dat, y.dat 파일 읽기\n",
    "X, y = ember.read_vectorized_features(data_dir,rows)\n",
    "#학습된 모델 로드\n",
    "lgbm_model = lgb.Booster(model_file=os.path.join(data_dir, \"model.txt\"))\n",
    "\n",
    "\n",
    "err = []\n",
    "y = []\n",
    "y_pred = []\n",
    "_name = []\n",
    "\n",
    "testdir = \"/media/root/ABC/dataset/TestSet_final1/\"\n",
    "y_pred = []\n",
    "for filename in tqdm.tqdm(os.listdir(testdir)):\n",
    "    _file = os.path.join(testdir, filename)\n",
    "\n",
    "    if os.path.isfile(_file):\n",
    "        binary = open(_file, \"rb\").read()\n",
    "\n",
    "        try:\n",
    "            \n",
    "            y_pred.append(ember.predict_sample(lgbm_model, binary))\n",
    "            y.append(data[data.hash == filename].values[0][1])\n",
    "            _name.append(filename)\n",
    "        except KeyboardInterrupt:\n",
    "            sys.exit()\n",
    "        except:\n",
    "            err.append(filename)\n",
    "            \n",
    "\n",
    "import pandas as pd\n",
    "\n",
    "r = pd.DataFrame({'hash': _name, 'label': y, 'y_pred': y_pred})\n",
    "r.to_csv('')\n",
    "for name in err:\n",
    "    print(\"Error %s\" %(name))\n",
    "print(\"Done\")"
   ]
  },
  {
   "cell_type": "markdown",
   "metadata": {},
   "source": [
    "# 예측값을 시각화"
   ]
  },
  {
   "cell_type": "code",
   "execution_count": 19,
   "metadata": {
    "scrolled": true
   },
   "outputs": [
    {
     "data": {
      "text/plain": [
       "<matplotlib.axes._subplots.AxesSubplot at 0x7f5fc081f2b0>"
      ]
     },
     "execution_count": 19,
     "metadata": {},
     "output_type": "execute_result"
    },
    {
     "data": {
      "image/png": "[encoded data removed]",
      "text/plain": [
       "<Figure size 432x288 with 1 Axes>"
      ]
     },
     "metadata": {},
     "output_type": "display_data"
    }
   ],
   "source": [
    "predict_malicious = tdf[tdf.label == 1]\n",
    "predict_malicious.plot.scatter(x='y_pred', y='label')"
   ]
  },
  {
   "cell_type": "code",
   "execution_count": 24,
   "metadata": {},
   "outputs": [
    {
     "name": "stdout",
     "output_type": "stream",
     "text": [
      "악성코드 갯수 : 6999\n",
      "악성코드로 예측한 값 중에 0.65미만 개수 : 21\n"
     ]
    }
   ],
   "source": [
    "print(\"악성코드 갯수 : %d\" % predict_malicious.label.sum())\n",
    "print(\"악성코드로 예측한 값 중에 0.65미만 개수 : %d\" % predict_malicious[predict_malicious.y_pred <= 0.65].label.sum())"
   ]
  },
  {
   "cell_type": "markdown",
   "metadata": {},
   "source": [
    "# 예측 출력 샘플"
   ]
  },
  {
   "cell_type": "code",
   "execution_count": 8,
   "metadata": {},
   "outputs": [
    {
     "name": "stdout",
     "output_type": "stream",
     "text": [
      "0.9692753949509041\n"
     ]
    }
   ],
   "source": [
    "import ember\n",
    "import lightgbm as lgb\n",
    "import os\n",
    "\n",
    "data_dir = '/' #학습한 모델이 있는 경로\n",
    "lgbm_model = lgb.Booster(model_file=os.path.join(data_dir, \"model.txt\")로 #모델 로드\n",
    "\n",
    "samplepath = '' #분석할 파일\n",
    "_sample = open(samplepath, 'rb').read(일 #바이너리 읽기\n",
    "y_pred = ember.predict_sample(lgbm_model, _sample기 #예측\n",
    "\n",
    "print(y_pred) #예측 출력"
   ]
  }
 ],
 "metadata": {
  "kernelspec": {
   "display_name": "Python 3",
   "language": "python",
   "name": "python3"
  },
  "language_info": {
   "codemirror_mode": {
    "name": "ipython",
    "version": 3
   },
   "file_extension": ".py",
   "mimetype": "text/x-python",
   "name": "python",
   "nbconvert_exporter": "python",
   "pygments_lexer": "ipython3",
   "version": "3.6.6"
  }
 },
 "nbformat": 4,
 "nbformat_minor": 2
}
